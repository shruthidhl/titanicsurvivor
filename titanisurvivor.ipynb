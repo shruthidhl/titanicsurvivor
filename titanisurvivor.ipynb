{
 "cells": [
  {
   "cell_type": "code",
   "execution_count": 345,
   "metadata": {},
   "outputs": [],
   "source": [
    "import pandas as pd "
   ]
  },
  {
   "cell_type": "code",
   "execution_count": 346,
   "metadata": {},
   "outputs": [],
   "source": [
    "titanic=pd.read_csv('C:/Users/Dell/Documents/SRH_Course/Semister-2/analytics2/ajinkya/data/titanic/train.csv')"
   ]
  },
  {
   "cell_type": "code",
   "execution_count": 347,
   "metadata": {},
   "outputs": [
    {
     "data": {
      "text/html": [
       "<div>\n",
       "<style scoped>\n",
       "    .dataframe tbody tr th:only-of-type {\n",
       "        vertical-align: middle;\n",
       "    }\n",
       "\n",
       "    .dataframe tbody tr th {\n",
       "        vertical-align: top;\n",
       "    }\n",
       "\n",
       "    .dataframe thead th {\n",
       "        text-align: right;\n",
       "    }\n",
       "</style>\n",
       "<table border=\"1\" class=\"dataframe\">\n",
       "  <thead>\n",
       "    <tr style=\"text-align: right;\">\n",
       "      <th></th>\n",
       "      <th>PassengerId</th>\n",
       "      <th>Survived</th>\n",
       "      <th>Pclass</th>\n",
       "      <th>Name</th>\n",
       "      <th>Sex</th>\n",
       "      <th>Age</th>\n",
       "      <th>SibSp</th>\n",
       "      <th>Parch</th>\n",
       "      <th>Ticket</th>\n",
       "      <th>Fare</th>\n",
       "      <th>Cabin</th>\n",
       "      <th>Embarked</th>\n",
       "    </tr>\n",
       "  </thead>\n",
       "  <tbody>\n",
       "    <tr>\n",
       "      <th>0</th>\n",
       "      <td>1</td>\n",
       "      <td>0</td>\n",
       "      <td>3</td>\n",
       "      <td>Braund, Mr. Owen Harris</td>\n",
       "      <td>male</td>\n",
       "      <td>22.0</td>\n",
       "      <td>1</td>\n",
       "      <td>0</td>\n",
       "      <td>A/5 21171</td>\n",
       "      <td>7.2500</td>\n",
       "      <td>NaN</td>\n",
       "      <td>S</td>\n",
       "    </tr>\n",
       "    <tr>\n",
       "      <th>1</th>\n",
       "      <td>2</td>\n",
       "      <td>1</td>\n",
       "      <td>1</td>\n",
       "      <td>Cumings, Mrs. John Bradley (Florence Briggs Th...</td>\n",
       "      <td>female</td>\n",
       "      <td>38.0</td>\n",
       "      <td>1</td>\n",
       "      <td>0</td>\n",
       "      <td>PC 17599</td>\n",
       "      <td>71.2833</td>\n",
       "      <td>C85</td>\n",
       "      <td>C</td>\n",
       "    </tr>\n",
       "    <tr>\n",
       "      <th>2</th>\n",
       "      <td>3</td>\n",
       "      <td>1</td>\n",
       "      <td>3</td>\n",
       "      <td>Heikkinen, Miss. Laina</td>\n",
       "      <td>female</td>\n",
       "      <td>26.0</td>\n",
       "      <td>0</td>\n",
       "      <td>0</td>\n",
       "      <td>STON/O2. 3101282</td>\n",
       "      <td>7.9250</td>\n",
       "      <td>NaN</td>\n",
       "      <td>S</td>\n",
       "    </tr>\n",
       "    <tr>\n",
       "      <th>3</th>\n",
       "      <td>4</td>\n",
       "      <td>1</td>\n",
       "      <td>1</td>\n",
       "      <td>Futrelle, Mrs. Jacques Heath (Lily May Peel)</td>\n",
       "      <td>female</td>\n",
       "      <td>35.0</td>\n",
       "      <td>1</td>\n",
       "      <td>0</td>\n",
       "      <td>113803</td>\n",
       "      <td>53.1000</td>\n",
       "      <td>C123</td>\n",
       "      <td>S</td>\n",
       "    </tr>\n",
       "    <tr>\n",
       "      <th>4</th>\n",
       "      <td>5</td>\n",
       "      <td>0</td>\n",
       "      <td>3</td>\n",
       "      <td>Allen, Mr. William Henry</td>\n",
       "      <td>male</td>\n",
       "      <td>35.0</td>\n",
       "      <td>0</td>\n",
       "      <td>0</td>\n",
       "      <td>373450</td>\n",
       "      <td>8.0500</td>\n",
       "      <td>NaN</td>\n",
       "      <td>S</td>\n",
       "    </tr>\n",
       "  </tbody>\n",
       "</table>\n",
       "</div>"
      ],
      "text/plain": [
       "   PassengerId  Survived  Pclass  \\\n",
       "0            1         0       3   \n",
       "1            2         1       1   \n",
       "2            3         1       3   \n",
       "3            4         1       1   \n",
       "4            5         0       3   \n",
       "\n",
       "                                                Name     Sex   Age  SibSp  \\\n",
       "0                            Braund, Mr. Owen Harris    male  22.0      1   \n",
       "1  Cumings, Mrs. John Bradley (Florence Briggs Th...  female  38.0      1   \n",
       "2                             Heikkinen, Miss. Laina  female  26.0      0   \n",
       "3       Futrelle, Mrs. Jacques Heath (Lily May Peel)  female  35.0      1   \n",
       "4                           Allen, Mr. William Henry    male  35.0      0   \n",
       "\n",
       "   Parch            Ticket     Fare Cabin Embarked  \n",
       "0      0         A/5 21171   7.2500   NaN        S  \n",
       "1      0          PC 17599  71.2833   C85        C  \n",
       "2      0  STON/O2. 3101282   7.9250   NaN        S  \n",
       "3      0            113803  53.1000  C123        S  \n",
       "4      0            373450   8.0500   NaN        S  "
      ]
     },
     "execution_count": 347,
     "metadata": {},
     "output_type": "execute_result"
    }
   ],
   "source": [
    "titanic.head(5)"
   ]
  },
  {
   "cell_type": "code",
   "execution_count": 348,
   "metadata": {},
   "outputs": [
    {
     "data": {
      "text/html": [
       "<div>\n",
       "<style scoped>\n",
       "    .dataframe tbody tr th:only-of-type {\n",
       "        vertical-align: middle;\n",
       "    }\n",
       "\n",
       "    .dataframe tbody tr th {\n",
       "        vertical-align: top;\n",
       "    }\n",
       "\n",
       "    .dataframe thead th {\n",
       "        text-align: right;\n",
       "    }\n",
       "</style>\n",
       "<table border=\"1\" class=\"dataframe\">\n",
       "  <thead>\n",
       "    <tr style=\"text-align: right;\">\n",
       "      <th></th>\n",
       "      <th>PassengerId</th>\n",
       "      <th>Survived</th>\n",
       "      <th>Pclass</th>\n",
       "      <th>Age</th>\n",
       "      <th>SibSp</th>\n",
       "      <th>Parch</th>\n",
       "      <th>Fare</th>\n",
       "    </tr>\n",
       "  </thead>\n",
       "  <tbody>\n",
       "    <tr>\n",
       "      <th>count</th>\n",
       "      <td>891.000000</td>\n",
       "      <td>891.000000</td>\n",
       "      <td>891.000000</td>\n",
       "      <td>714.000000</td>\n",
       "      <td>891.000000</td>\n",
       "      <td>891.000000</td>\n",
       "      <td>891.000000</td>\n",
       "    </tr>\n",
       "    <tr>\n",
       "      <th>mean</th>\n",
       "      <td>446.000000</td>\n",
       "      <td>0.383838</td>\n",
       "      <td>2.308642</td>\n",
       "      <td>29.699118</td>\n",
       "      <td>0.523008</td>\n",
       "      <td>0.381594</td>\n",
       "      <td>32.204208</td>\n",
       "    </tr>\n",
       "    <tr>\n",
       "      <th>std</th>\n",
       "      <td>257.353842</td>\n",
       "      <td>0.486592</td>\n",
       "      <td>0.836071</td>\n",
       "      <td>14.526497</td>\n",
       "      <td>1.102743</td>\n",
       "      <td>0.806057</td>\n",
       "      <td>49.693429</td>\n",
       "    </tr>\n",
       "    <tr>\n",
       "      <th>min</th>\n",
       "      <td>1.000000</td>\n",
       "      <td>0.000000</td>\n",
       "      <td>1.000000</td>\n",
       "      <td>0.420000</td>\n",
       "      <td>0.000000</td>\n",
       "      <td>0.000000</td>\n",
       "      <td>0.000000</td>\n",
       "    </tr>\n",
       "    <tr>\n",
       "      <th>25%</th>\n",
       "      <td>223.500000</td>\n",
       "      <td>0.000000</td>\n",
       "      <td>2.000000</td>\n",
       "      <td>20.125000</td>\n",
       "      <td>0.000000</td>\n",
       "      <td>0.000000</td>\n",
       "      <td>7.910400</td>\n",
       "    </tr>\n",
       "    <tr>\n",
       "      <th>50%</th>\n",
       "      <td>446.000000</td>\n",
       "      <td>0.000000</td>\n",
       "      <td>3.000000</td>\n",
       "      <td>28.000000</td>\n",
       "      <td>0.000000</td>\n",
       "      <td>0.000000</td>\n",
       "      <td>14.454200</td>\n",
       "    </tr>\n",
       "    <tr>\n",
       "      <th>75%</th>\n",
       "      <td>668.500000</td>\n",
       "      <td>1.000000</td>\n",
       "      <td>3.000000</td>\n",
       "      <td>38.000000</td>\n",
       "      <td>1.000000</td>\n",
       "      <td>0.000000</td>\n",
       "      <td>31.000000</td>\n",
       "    </tr>\n",
       "    <tr>\n",
       "      <th>max</th>\n",
       "      <td>891.000000</td>\n",
       "      <td>1.000000</td>\n",
       "      <td>3.000000</td>\n",
       "      <td>80.000000</td>\n",
       "      <td>8.000000</td>\n",
       "      <td>6.000000</td>\n",
       "      <td>512.329200</td>\n",
       "    </tr>\n",
       "  </tbody>\n",
       "</table>\n",
       "</div>"
      ],
      "text/plain": [
       "       PassengerId    Survived      Pclass         Age       SibSp  \\\n",
       "count   891.000000  891.000000  891.000000  714.000000  891.000000   \n",
       "mean    446.000000    0.383838    2.308642   29.699118    0.523008   \n",
       "std     257.353842    0.486592    0.836071   14.526497    1.102743   \n",
       "min       1.000000    0.000000    1.000000    0.420000    0.000000   \n",
       "25%     223.500000    0.000000    2.000000   20.125000    0.000000   \n",
       "50%     446.000000    0.000000    3.000000   28.000000    0.000000   \n",
       "75%     668.500000    1.000000    3.000000   38.000000    1.000000   \n",
       "max     891.000000    1.000000    3.000000   80.000000    8.000000   \n",
       "\n",
       "            Parch        Fare  \n",
       "count  891.000000  891.000000  \n",
       "mean     0.381594   32.204208  \n",
       "std      0.806057   49.693429  \n",
       "min      0.000000    0.000000  \n",
       "25%      0.000000    7.910400  \n",
       "50%      0.000000   14.454200  \n",
       "75%      0.000000   31.000000  \n",
       "max      6.000000  512.329200  "
      ]
     },
     "execution_count": 348,
     "metadata": {},
     "output_type": "execute_result"
    }
   ],
   "source": [
    "titanic.describe()"
   ]
  },
  {
   "cell_type": "code",
   "execution_count": 358,
   "metadata": {},
   "outputs": [
    {
     "data": {
      "text/plain": [
       "(891, 9)"
      ]
     },
     "execution_count": 358,
     "metadata": {},
     "output_type": "execute_result"
    }
   ],
   "source": [
    "titanic.shape"
   ]
  },
  {
   "cell_type": "code",
   "execution_count": 349,
   "metadata": {},
   "outputs": [
    {
     "data": {
      "text/plain": [
       "PassengerId    0.000000\n",
       "Survived       0.000000\n",
       "Pclass         0.000000\n",
       "Name           0.000000\n",
       "Sex            0.000000\n",
       "Age            0.198653\n",
       "SibSp          0.000000\n",
       "Parch          0.000000\n",
       "Ticket         0.000000\n",
       "Fare           0.000000\n",
       "Cabin          0.771044\n",
       "Embarked       0.002245\n",
       "dtype: float64"
      ]
     },
     "execution_count": 349,
     "metadata": {},
     "output_type": "execute_result"
    }
   ],
   "source": [
    "titanic.isna().sum()/titanic.shape[0]"
   ]
  },
  {
   "cell_type": "code",
   "execution_count": 350,
   "metadata": {},
   "outputs": [],
   "source": [
    "#removed three features which will not much value to my analysis \n",
    "titanic=titanic.drop(['Cabin','Name','Ticket'], axis=1)"
   ]
  },
  {
   "cell_type": "code",
   "execution_count": 351,
   "metadata": {},
   "outputs": [
    {
     "data": {
      "text/plain": [
       "Index(['PassengerId', 'Survived', 'Pclass', 'Sex', 'Age', 'SibSp', 'Parch',\n",
       "       'Fare', 'Embarked'],\n",
       "      dtype='object')"
      ]
     },
     "execution_count": 351,
     "metadata": {},
     "output_type": "execute_result"
    }
   ],
   "source": [
    "titanic.columns"
   ]
  },
  {
   "cell_type": "code",
   "execution_count": 352,
   "metadata": {},
   "outputs": [],
   "source": [
    "titanic['Age']=titanic['Age'].fillna(titanic['Age'].mean() )"
   ]
  },
  {
   "cell_type": "code",
   "execution_count": 353,
   "metadata": {},
   "outputs": [
    {
     "data": {
      "text/plain": [
       "0.002244668911335578"
      ]
     },
     "execution_count": 353,
     "metadata": {},
     "output_type": "execute_result"
    }
   ],
   "source": [
    "titanic['Embarked'].isna().sum()/titanic.shape[0]"
   ]
  },
  {
   "cell_type": "code",
   "execution_count": 354,
   "metadata": {},
   "outputs": [
    {
     "data": {
      "text/plain": [
       "Index(['PassengerId', 'Survived', 'Pclass', 'Sex', 'Age', 'SibSp', 'Parch',\n",
       "       'Fare', 'Embarked'],\n",
       "      dtype='object')"
      ]
     },
     "execution_count": 354,
     "metadata": {},
     "output_type": "execute_result"
    }
   ],
   "source": [
    "titanic.columns"
   ]
  },
  {
   "cell_type": "code",
   "execution_count": 357,
   "metadata": {},
   "outputs": [
    {
     "data": {
      "text/plain": [
       "(891, 9)"
      ]
     },
     "execution_count": 357,
     "metadata": {},
     "output_type": "execute_result"
    }
   ],
   "source": [
    "titanic.shape"
   ]
  },
  {
   "cell_type": "code",
   "execution_count": 359,
   "metadata": {},
   "outputs": [],
   "source": [
    "titanic=titanic.dropna()"
   ]
  },
  {
   "cell_type": "code",
   "execution_count": 360,
   "metadata": {},
   "outputs": [
    {
     "data": {
      "text/plain": [
       "(889, 9)"
      ]
     },
     "execution_count": 360,
     "metadata": {},
     "output_type": "execute_result"
    }
   ],
   "source": [
    "titanic.shape"
   ]
  },
  {
   "cell_type": "code",
   "execution_count": 361,
   "metadata": {},
   "outputs": [
    {
     "data": {
      "text/plain": [
       "S    644\n",
       "C    168\n",
       "Q     77\n",
       "Name: Embarked, dtype: int64"
      ]
     },
     "execution_count": 361,
     "metadata": {},
     "output_type": "execute_result"
    }
   ],
   "source": [
    "titanic['Embarked'].value_counts()"
   ]
  },
  {
   "cell_type": "code",
   "execution_count": 362,
   "metadata": {},
   "outputs": [
    {
     "data": {
      "text/plain": [
       "Index(['PassengerId', 'Survived', 'Pclass', 'Sex', 'Age', 'SibSp', 'Parch',\n",
       "       'Fare', 'Embarked'],\n",
       "      dtype='object')"
      ]
     },
     "execution_count": 362,
     "metadata": {},
     "output_type": "execute_result"
    }
   ],
   "source": [
    "titanic.columns"
   ]
  },
  {
   "cell_type": "code",
   "execution_count": 363,
   "metadata": {},
   "outputs": [],
   "source": [
    "titanic = pd.get_dummies(titanic, prefix='Sex_', columns=['Sex'])"
   ]
  },
  {
   "cell_type": "code",
   "execution_count": 364,
   "metadata": {},
   "outputs": [
    {
     "data": {
      "text/html": [
       "<div>\n",
       "<style scoped>\n",
       "    .dataframe tbody tr th:only-of-type {\n",
       "        vertical-align: middle;\n",
       "    }\n",
       "\n",
       "    .dataframe tbody tr th {\n",
       "        vertical-align: top;\n",
       "    }\n",
       "\n",
       "    .dataframe thead th {\n",
       "        text-align: right;\n",
       "    }\n",
       "</style>\n",
       "<table border=\"1\" class=\"dataframe\">\n",
       "  <thead>\n",
       "    <tr style=\"text-align: right;\">\n",
       "      <th></th>\n",
       "      <th>PassengerId</th>\n",
       "      <th>Survived</th>\n",
       "      <th>Pclass</th>\n",
       "      <th>Age</th>\n",
       "      <th>SibSp</th>\n",
       "      <th>Parch</th>\n",
       "      <th>Fare</th>\n",
       "      <th>Embarked</th>\n",
       "      <th>Sex__female</th>\n",
       "      <th>Sex__male</th>\n",
       "    </tr>\n",
       "  </thead>\n",
       "  <tbody>\n",
       "    <tr>\n",
       "      <th>0</th>\n",
       "      <td>1</td>\n",
       "      <td>0</td>\n",
       "      <td>3</td>\n",
       "      <td>22.0</td>\n",
       "      <td>1</td>\n",
       "      <td>0</td>\n",
       "      <td>7.2500</td>\n",
       "      <td>S</td>\n",
       "      <td>0</td>\n",
       "      <td>1</td>\n",
       "    </tr>\n",
       "    <tr>\n",
       "      <th>1</th>\n",
       "      <td>2</td>\n",
       "      <td>1</td>\n",
       "      <td>1</td>\n",
       "      <td>38.0</td>\n",
       "      <td>1</td>\n",
       "      <td>0</td>\n",
       "      <td>71.2833</td>\n",
       "      <td>C</td>\n",
       "      <td>1</td>\n",
       "      <td>0</td>\n",
       "    </tr>\n",
       "    <tr>\n",
       "      <th>2</th>\n",
       "      <td>3</td>\n",
       "      <td>1</td>\n",
       "      <td>3</td>\n",
       "      <td>26.0</td>\n",
       "      <td>0</td>\n",
       "      <td>0</td>\n",
       "      <td>7.9250</td>\n",
       "      <td>S</td>\n",
       "      <td>1</td>\n",
       "      <td>0</td>\n",
       "    </tr>\n",
       "    <tr>\n",
       "      <th>3</th>\n",
       "      <td>4</td>\n",
       "      <td>1</td>\n",
       "      <td>1</td>\n",
       "      <td>35.0</td>\n",
       "      <td>1</td>\n",
       "      <td>0</td>\n",
       "      <td>53.1000</td>\n",
       "      <td>S</td>\n",
       "      <td>1</td>\n",
       "      <td>0</td>\n",
       "    </tr>\n",
       "    <tr>\n",
       "      <th>4</th>\n",
       "      <td>5</td>\n",
       "      <td>0</td>\n",
       "      <td>3</td>\n",
       "      <td>35.0</td>\n",
       "      <td>0</td>\n",
       "      <td>0</td>\n",
       "      <td>8.0500</td>\n",
       "      <td>S</td>\n",
       "      <td>0</td>\n",
       "      <td>1</td>\n",
       "    </tr>\n",
       "  </tbody>\n",
       "</table>\n",
       "</div>"
      ],
      "text/plain": [
       "   PassengerId  Survived  Pclass   Age  SibSp  Parch     Fare Embarked  \\\n",
       "0            1         0       3  22.0      1      0   7.2500        S   \n",
       "1            2         1       1  38.0      1      0  71.2833        C   \n",
       "2            3         1       3  26.0      0      0   7.9250        S   \n",
       "3            4         1       1  35.0      1      0  53.1000        S   \n",
       "4            5         0       3  35.0      0      0   8.0500        S   \n",
       "\n",
       "   Sex__female  Sex__male  \n",
       "0            0          1  \n",
       "1            1          0  \n",
       "2            1          0  \n",
       "3            1          0  \n",
       "4            0          1  "
      ]
     },
     "execution_count": 364,
     "metadata": {},
     "output_type": "execute_result"
    }
   ],
   "source": [
    "titanic.head(5)"
   ]
  },
  {
   "cell_type": "code",
   "execution_count": 365,
   "metadata": {},
   "outputs": [],
   "source": [
    "titanic = pd.get_dummies(titanic, prefix='Embarked', columns=['Embarked'])"
   ]
  },
  {
   "cell_type": "code",
   "execution_count": 378,
   "metadata": {},
   "outputs": [
    {
     "data": {
      "text/html": [
       "<div>\n",
       "<style scoped>\n",
       "    .dataframe tbody tr th:only-of-type {\n",
       "        vertical-align: middle;\n",
       "    }\n",
       "\n",
       "    .dataframe tbody tr th {\n",
       "        vertical-align: top;\n",
       "    }\n",
       "\n",
       "    .dataframe thead th {\n",
       "        text-align: right;\n",
       "    }\n",
       "</style>\n",
       "<table border=\"1\" class=\"dataframe\">\n",
       "  <thead>\n",
       "    <tr style=\"text-align: right;\">\n",
       "      <th></th>\n",
       "      <th>PassengerId</th>\n",
       "      <th>Survived</th>\n",
       "      <th>Pclass</th>\n",
       "      <th>Age</th>\n",
       "      <th>SibSp</th>\n",
       "      <th>Parch</th>\n",
       "      <th>Fare</th>\n",
       "      <th>Embarked_C</th>\n",
       "      <th>Embarked_Q</th>\n",
       "      <th>Embarked_S</th>\n",
       "      <th>Sex_female</th>\n",
       "      <th>Sex_male</th>\n",
       "    </tr>\n",
       "  </thead>\n",
       "  <tbody>\n",
       "    <tr>\n",
       "      <th>0</th>\n",
       "      <td>1</td>\n",
       "      <td>0</td>\n",
       "      <td>3</td>\n",
       "      <td>22.0</td>\n",
       "      <td>1</td>\n",
       "      <td>0</td>\n",
       "      <td>7.2500</td>\n",
       "      <td>0</td>\n",
       "      <td>0</td>\n",
       "      <td>1</td>\n",
       "      <td>0</td>\n",
       "      <td>1</td>\n",
       "    </tr>\n",
       "    <tr>\n",
       "      <th>1</th>\n",
       "      <td>2</td>\n",
       "      <td>1</td>\n",
       "      <td>1</td>\n",
       "      <td>38.0</td>\n",
       "      <td>1</td>\n",
       "      <td>0</td>\n",
       "      <td>71.2833</td>\n",
       "      <td>1</td>\n",
       "      <td>0</td>\n",
       "      <td>0</td>\n",
       "      <td>1</td>\n",
       "      <td>0</td>\n",
       "    </tr>\n",
       "    <tr>\n",
       "      <th>2</th>\n",
       "      <td>3</td>\n",
       "      <td>1</td>\n",
       "      <td>3</td>\n",
       "      <td>26.0</td>\n",
       "      <td>0</td>\n",
       "      <td>0</td>\n",
       "      <td>7.9250</td>\n",
       "      <td>0</td>\n",
       "      <td>0</td>\n",
       "      <td>1</td>\n",
       "      <td>1</td>\n",
       "      <td>0</td>\n",
       "    </tr>\n",
       "    <tr>\n",
       "      <th>3</th>\n",
       "      <td>4</td>\n",
       "      <td>1</td>\n",
       "      <td>1</td>\n",
       "      <td>35.0</td>\n",
       "      <td>1</td>\n",
       "      <td>0</td>\n",
       "      <td>53.1000</td>\n",
       "      <td>0</td>\n",
       "      <td>0</td>\n",
       "      <td>1</td>\n",
       "      <td>1</td>\n",
       "      <td>0</td>\n",
       "    </tr>\n",
       "    <tr>\n",
       "      <th>4</th>\n",
       "      <td>5</td>\n",
       "      <td>0</td>\n",
       "      <td>3</td>\n",
       "      <td>35.0</td>\n",
       "      <td>0</td>\n",
       "      <td>0</td>\n",
       "      <td>8.0500</td>\n",
       "      <td>0</td>\n",
       "      <td>0</td>\n",
       "      <td>1</td>\n",
       "      <td>0</td>\n",
       "      <td>1</td>\n",
       "    </tr>\n",
       "  </tbody>\n",
       "</table>\n",
       "</div>"
      ],
      "text/plain": [
       "   PassengerId  Survived  Pclass   Age  SibSp  Parch     Fare  Embarked_C  \\\n",
       "0            1         0       3  22.0      1      0   7.2500           0   \n",
       "1            2         1       1  38.0      1      0  71.2833           1   \n",
       "2            3         1       3  26.0      0      0   7.9250           0   \n",
       "3            4         1       1  35.0      1      0  53.1000           0   \n",
       "4            5         0       3  35.0      0      0   8.0500           0   \n",
       "\n",
       "   Embarked_Q  Embarked_S  Sex_female  Sex_male  \n",
       "0           0           1           0         1  \n",
       "1           0           0           1         0  \n",
       "2           0           1           1         0  \n",
       "3           0           1           1         0  \n",
       "4           0           1           0         1  "
      ]
     },
     "execution_count": 378,
     "metadata": {},
     "output_type": "execute_result"
    }
   ],
   "source": [
    "titanic.head(5)"
   ]
  },
  {
   "cell_type": "code",
   "execution_count": 379,
   "metadata": {},
   "outputs": [
    {
     "data": {
      "text/plain": [
       "Index(['PassengerId', 'Survived', 'Pclass', 'Age', 'SibSp', 'Parch', 'Fare',\n",
       "       'Embarked_C', 'Embarked_Q', 'Embarked_S', 'Sex_female', 'Sex_male'],\n",
       "      dtype='object')"
      ]
     },
     "execution_count": 379,
     "metadata": {},
     "output_type": "execute_result"
    }
   ],
   "source": [
    "titanic.columns"
   ]
  },
  {
   "cell_type": "code",
   "execution_count": 383,
   "metadata": {},
   "outputs": [],
   "source": [
    "corr=titanic.corr()"
   ]
  },
  {
   "cell_type": "code",
   "execution_count": 384,
   "metadata": {},
   "outputs": [
    {
     "data": {
      "text/html": [
       "<style  type=\"text/css\" >\n",
       "#T_d548b4ca_2f3b_11ec_9333_5cea1d3d7932row0_col0,#T_d548b4ca_2f3b_11ec_9333_5cea1d3d7932row1_col1,#T_d548b4ca_2f3b_11ec_9333_5cea1d3d7932row2_col2,#T_d548b4ca_2f3b_11ec_9333_5cea1d3d7932row3_col3,#T_d548b4ca_2f3b_11ec_9333_5cea1d3d7932row4_col4,#T_d548b4ca_2f3b_11ec_9333_5cea1d3d7932row5_col5,#T_d548b4ca_2f3b_11ec_9333_5cea1d3d7932row6_col6,#T_d548b4ca_2f3b_11ec_9333_5cea1d3d7932row7_col7,#T_d548b4ca_2f3b_11ec_9333_5cea1d3d7932row8_col8,#T_d548b4ca_2f3b_11ec_9333_5cea1d3d7932row9_col9,#T_d548b4ca_2f3b_11ec_9333_5cea1d3d7932row10_col10,#T_d548b4ca_2f3b_11ec_9333_5cea1d3d7932row11_col11{\n",
       "            background-color:  #b40426;\n",
       "            color:  #f1f1f1;\n",
       "        }#T_d548b4ca_2f3b_11ec_9333_5cea1d3d7932row0_col1,#T_d548b4ca_2f3b_11ec_9333_5cea1d3d7932row1_col9{\n",
       "            background-color:  #afcafc;\n",
       "            color:  #000000;\n",
       "        }#T_d548b4ca_2f3b_11ec_9333_5cea1d3d7932row0_col2,#T_d548b4ca_2f3b_11ec_9333_5cea1d3d7932row4_col1{\n",
       "            background-color:  #a9c6fd;\n",
       "            color:  #000000;\n",
       "        }#T_d548b4ca_2f3b_11ec_9333_5cea1d3d7932row0_col3{\n",
       "            background-color:  #96b7ff;\n",
       "            color:  #000000;\n",
       "        }#T_d548b4ca_2f3b_11ec_9333_5cea1d3d7932row0_col4,#T_d548b4ca_2f3b_11ec_9333_5cea1d3d7932row3_col2{\n",
       "            background-color:  #6788ee;\n",
       "            color:  #000000;\n",
       "        }#T_d548b4ca_2f3b_11ec_9333_5cea1d3d7932row0_col5,#T_d548b4ca_2f3b_11ec_9333_5cea1d3d7932row1_col3,#T_d548b4ca_2f3b_11ec_9333_5cea1d3d7932row7_col2{\n",
       "            background-color:  #7a9df8;\n",
       "            color:  #000000;\n",
       "        }#T_d548b4ca_2f3b_11ec_9333_5cea1d3d7932row0_col6{\n",
       "            background-color:  #b3cdfb;\n",
       "            color:  #000000;\n",
       "        }#T_d548b4ca_2f3b_11ec_9333_5cea1d3d7932row0_col7,#T_d548b4ca_2f3b_11ec_9333_5cea1d3d7932row2_col10,#T_d548b4ca_2f3b_11ec_9333_5cea1d3d7932row9_col10{\n",
       "            background-color:  #cbd8ee;\n",
       "            color:  #000000;\n",
       "        }#T_d548b4ca_2f3b_11ec_9333_5cea1d3d7932row0_col8,#T_d548b4ca_2f3b_11ec_9333_5cea1d3d7932row11_col3{\n",
       "            background-color:  #a2c1ff;\n",
       "            color:  #000000;\n",
       "        }#T_d548b4ca_2f3b_11ec_9333_5cea1d3d7932row0_col9{\n",
       "            background-color:  #cfdaea;\n",
       "            color:  #000000;\n",
       "        }#T_d548b4ca_2f3b_11ec_9333_5cea1d3d7932row0_col10,#T_d548b4ca_2f3b_11ec_9333_5cea1d3d7932row2_col8,#T_d548b4ca_2f3b_11ec_9333_5cea1d3d7932row4_col9{\n",
       "            background-color:  #d7dce3;\n",
       "            color:  #000000;\n",
       "        }#T_d548b4ca_2f3b_11ec_9333_5cea1d3d7932row0_col11,#T_d548b4ca_2f3b_11ec_9333_5cea1d3d7932row1_col6{\n",
       "            background-color:  #e2dad5;\n",
       "            color:  #000000;\n",
       "        }#T_d548b4ca_2f3b_11ec_9333_5cea1d3d7932row1_col0{\n",
       "            background-color:  #4961d2;\n",
       "            color:  #f1f1f1;\n",
       "        }#T_d548b4ca_2f3b_11ec_9333_5cea1d3d7932row1_col2{\n",
       "            background-color:  #6485ec;\n",
       "            color:  #000000;\n",
       "        }#T_d548b4ca_2f3b_11ec_9333_5cea1d3d7932row1_col4,#T_d548b4ca_2f3b_11ec_9333_5cea1d3d7932row8_col9{\n",
       "            background-color:  #6c8ff1;\n",
       "            color:  #000000;\n",
       "        }#T_d548b4ca_2f3b_11ec_9333_5cea1d3d7932row1_col5{\n",
       "            background-color:  #92b4fe;\n",
       "            color:  #000000;\n",
       "        }#T_d548b4ca_2f3b_11ec_9333_5cea1d3d7932row1_col7{\n",
       "            background-color:  #e5d8d1;\n",
       "            color:  #000000;\n",
       "        }#T_d548b4ca_2f3b_11ec_9333_5cea1d3d7932row1_col8{\n",
       "            background-color:  #aac7fd;\n",
       "            color:  #000000;\n",
       "        }#T_d548b4ca_2f3b_11ec_9333_5cea1d3d7932row1_col10{\n",
       "            background-color:  #f29072;\n",
       "            color:  #000000;\n",
       "        }#T_d548b4ca_2f3b_11ec_9333_5cea1d3d7932row1_col11,#T_d548b4ca_2f3b_11ec_9333_5cea1d3d7932row9_col3{\n",
       "            background-color:  #85a8fc;\n",
       "            color:  #000000;\n",
       "        }#T_d548b4ca_2f3b_11ec_9333_5cea1d3d7932row2_col0,#T_d548b4ca_2f3b_11ec_9333_5cea1d3d7932row8_col0{\n",
       "            background-color:  #4055c8;\n",
       "            color:  #f1f1f1;\n",
       "        }#T_d548b4ca_2f3b_11ec_9333_5cea1d3d7932row2_col1,#T_d548b4ca_2f3b_11ec_9333_5cea1d3d7932row8_col5{\n",
       "            background-color:  #6384eb;\n",
       "            color:  #000000;\n",
       "        }#T_d548b4ca_2f3b_11ec_9333_5cea1d3d7932row2_col3,#T_d548b4ca_2f3b_11ec_9333_5cea1d3d7932row2_col6,#T_d548b4ca_2f3b_11ec_9333_5cea1d3d7932row3_col4,#T_d548b4ca_2f3b_11ec_9333_5cea1d3d7932row4_col0,#T_d548b4ca_2f3b_11ec_9333_5cea1d3d7932row6_col2,#T_d548b4ca_2f3b_11ec_9333_5cea1d3d7932row7_col9,#T_d548b4ca_2f3b_11ec_9333_5cea1d3d7932row9_col7,#T_d548b4ca_2f3b_11ec_9333_5cea1d3d7932row9_col8,#T_d548b4ca_2f3b_11ec_9333_5cea1d3d7932row10_col11,#T_d548b4ca_2f3b_11ec_9333_5cea1d3d7932row11_col1,#T_d548b4ca_2f3b_11ec_9333_5cea1d3d7932row11_col5,#T_d548b4ca_2f3b_11ec_9333_5cea1d3d7932row11_col10{\n",
       "            background-color:  #3b4cc0;\n",
       "            color:  #f1f1f1;\n",
       "        }#T_d548b4ca_2f3b_11ec_9333_5cea1d3d7932row2_col4{\n",
       "            background-color:  #8fb1fe;\n",
       "            color:  #000000;\n",
       "        }#T_d548b4ca_2f3b_11ec_9333_5cea1d3d7932row2_col5{\n",
       "            background-color:  #80a3fa;\n",
       "            color:  #000000;\n",
       "        }#T_d548b4ca_2f3b_11ec_9333_5cea1d3d7932row2_col7{\n",
       "            background-color:  #9fbfff;\n",
       "            color:  #000000;\n",
       "        }#T_d548b4ca_2f3b_11ec_9333_5cea1d3d7932row2_col9,#T_d548b4ca_2f3b_11ec_9333_5cea1d3d7932row10_col7{\n",
       "            background-color:  #d8dce2;\n",
       "            color:  #000000;\n",
       "        }#T_d548b4ca_2f3b_11ec_9333_5cea1d3d7932row2_col11,#T_d548b4ca_2f3b_11ec_9333_5cea1d3d7932row9_col11{\n",
       "            background-color:  #ecd3c5;\n",
       "            color:  #000000;\n",
       "        }#T_d548b4ca_2f3b_11ec_9333_5cea1d3d7932row3_col0{\n",
       "            background-color:  #5470de;\n",
       "            color:  #000000;\n",
       "        }#T_d548b4ca_2f3b_11ec_9333_5cea1d3d7932row3_col1{\n",
       "            background-color:  #a1c0ff;\n",
       "            color:  #000000;\n",
       "        }#T_d548b4ca_2f3b_11ec_9333_5cea1d3d7932row3_col5,#T_d548b4ca_2f3b_11ec_9333_5cea1d3d7932row5_col0,#T_d548b4ca_2f3b_11ec_9333_5cea1d3d7932row7_col0{\n",
       "            background-color:  #4a63d3;\n",
       "            color:  #f1f1f1;\n",
       "        }#T_d548b4ca_2f3b_11ec_9333_5cea1d3d7932row3_col6{\n",
       "            background-color:  #c4d5f3;\n",
       "            color:  #000000;\n",
       "        }#T_d548b4ca_2f3b_11ec_9333_5cea1d3d7932row3_col7{\n",
       "            background-color:  #d1dae9;\n",
       "            color:  #000000;\n",
       "        }#T_d548b4ca_2f3b_11ec_9333_5cea1d3d7932row3_col8{\n",
       "            background-color:  #a6c4fe;\n",
       "            color:  #000000;\n",
       "        }#T_d548b4ca_2f3b_11ec_9333_5cea1d3d7932row3_col9{\n",
       "            background-color:  #c7d7f0;\n",
       "            color:  #000000;\n",
       "        }#T_d548b4ca_2f3b_11ec_9333_5cea1d3d7932row3_col10,#T_d548b4ca_2f3b_11ec_9333_5cea1d3d7932row4_col6,#T_d548b4ca_2f3b_11ec_9333_5cea1d3d7932row7_col11{\n",
       "            background-color:  #d2dbe8;\n",
       "            color:  #000000;\n",
       "        }#T_d548b4ca_2f3b_11ec_9333_5cea1d3d7932row3_col11,#T_d548b4ca_2f3b_11ec_9333_5cea1d3d7932row7_col10{\n",
       "            background-color:  #e7d7ce;\n",
       "            color:  #000000;\n",
       "        }#T_d548b4ca_2f3b_11ec_9333_5cea1d3d7932row4_col2,#T_d548b4ca_2f3b_11ec_9333_5cea1d3d7932row6_col11,#T_d548b4ca_2f3b_11ec_9333_5cea1d3d7932row9_col2{\n",
       "            background-color:  #c3d5f4;\n",
       "            color:  #000000;\n",
       "        }#T_d548b4ca_2f3b_11ec_9333_5cea1d3d7932row4_col3{\n",
       "            background-color:  #506bda;\n",
       "            color:  #000000;\n",
       "        }#T_d548b4ca_2f3b_11ec_9333_5cea1d3d7932row4_col5,#T_d548b4ca_2f3b_11ec_9333_5cea1d3d7932row7_col6{\n",
       "            background-color:  #e4d9d2;\n",
       "            color:  #000000;\n",
       "        }#T_d548b4ca_2f3b_11ec_9333_5cea1d3d7932row4_col7,#T_d548b4ca_2f3b_11ec_9333_5cea1d3d7932row5_col1{\n",
       "            background-color:  #c1d4f4;\n",
       "            color:  #000000;\n",
       "        }#T_d548b4ca_2f3b_11ec_9333_5cea1d3d7932row4_col8{\n",
       "            background-color:  #a3c2fe;\n",
       "            color:  #000000;\n",
       "        }#T_d548b4ca_2f3b_11ec_9333_5cea1d3d7932row4_col10{\n",
       "            background-color:  #ead4c8;\n",
       "            color:  #000000;\n",
       "        }#T_d548b4ca_2f3b_11ec_9333_5cea1d3d7932row4_col11{\n",
       "            background-color:  #cdd9ec;\n",
       "            color:  #000000;\n",
       "        }#T_d548b4ca_2f3b_11ec_9333_5cea1d3d7932row5_col2,#T_d548b4ca_2f3b_11ec_9333_5cea1d3d7932row10_col9{\n",
       "            background-color:  #b5cdfa;\n",
       "            color:  #000000;\n",
       "        }#T_d548b4ca_2f3b_11ec_9333_5cea1d3d7932row5_col3{\n",
       "            background-color:  #5e7de7;\n",
       "            color:  #000000;\n",
       "        }#T_d548b4ca_2f3b_11ec_9333_5cea1d3d7932row5_col4{\n",
       "            background-color:  #e3d9d3;\n",
       "            color:  #000000;\n",
       "        }#T_d548b4ca_2f3b_11ec_9333_5cea1d3d7932row5_col6{\n",
       "            background-color:  #dbdcde;\n",
       "            color:  #000000;\n",
       "        }#T_d548b4ca_2f3b_11ec_9333_5cea1d3d7932row5_col7{\n",
       "            background-color:  #cad8ef;\n",
       "            color:  #000000;\n",
       "        }#T_d548b4ca_2f3b_11ec_9333_5cea1d3d7932row5_col8,#T_d548b4ca_2f3b_11ec_9333_5cea1d3d7932row8_col6{\n",
       "            background-color:  #97b8ff;\n",
       "            color:  #000000;\n",
       "        }#T_d548b4ca_2f3b_11ec_9333_5cea1d3d7932row5_col9{\n",
       "            background-color:  #d6dce4;\n",
       "            color:  #000000;\n",
       "        }#T_d548b4ca_2f3b_11ec_9333_5cea1d3d7932row5_col10{\n",
       "            background-color:  #f4c5ad;\n",
       "            color:  #000000;\n",
       "        }#T_d548b4ca_2f3b_11ec_9333_5cea1d3d7932row5_col11{\n",
       "            background-color:  #b9d0f9;\n",
       "            color:  #000000;\n",
       "        }#T_d548b4ca_2f3b_11ec_9333_5cea1d3d7932row6_col0{\n",
       "            background-color:  #4e68d8;\n",
       "            color:  #000000;\n",
       "        }#T_d548b4ca_2f3b_11ec_9333_5cea1d3d7932row6_col1{\n",
       "            background-color:  #e1dad6;\n",
       "            color:  #000000;\n",
       "        }#T_d548b4ca_2f3b_11ec_9333_5cea1d3d7932row6_col3,#T_d548b4ca_2f3b_11ec_9333_5cea1d3d7932row6_col4{\n",
       "            background-color:  #a5c3fe;\n",
       "            color:  #000000;\n",
       "        }#T_d548b4ca_2f3b_11ec_9333_5cea1d3d7932row6_col5{\n",
       "            background-color:  #b6cefa;\n",
       "            color:  #000000;\n",
       "        }#T_d548b4ca_2f3b_11ec_9333_5cea1d3d7932row6_col7{\n",
       "            background-color:  #f0cdbb;\n",
       "            color:  #000000;\n",
       "        }#T_d548b4ca_2f3b_11ec_9333_5cea1d3d7932row6_col8,#T_d548b4ca_2f3b_11ec_9333_5cea1d3d7932row9_col1{\n",
       "            background-color:  #8db0fe;\n",
       "            color:  #000000;\n",
       "        }#T_d548b4ca_2f3b_11ec_9333_5cea1d3d7932row6_col9{\n",
       "            background-color:  #aec9fc;\n",
       "            color:  #000000;\n",
       "        }#T_d548b4ca_2f3b_11ec_9333_5cea1d3d7932row6_col10{\n",
       "            background-color:  #f1cdba;\n",
       "            color:  #000000;\n",
       "        }#T_d548b4ca_2f3b_11ec_9333_5cea1d3d7932row7_col1,#T_d548b4ca_2f3b_11ec_9333_5cea1d3d7932row8_col11{\n",
       "            background-color:  #d3dbe7;\n",
       "            color:  #000000;\n",
       "        }#T_d548b4ca_2f3b_11ec_9333_5cea1d3d7932row7_col3{\n",
       "            background-color:  #94b6ff;\n",
       "            color:  #000000;\n",
       "        }#T_d548b4ca_2f3b_11ec_9333_5cea1d3d7932row7_col4{\n",
       "            background-color:  #6687ed;\n",
       "            color:  #000000;\n",
       "        }#T_d548b4ca_2f3b_11ec_9333_5cea1d3d7932row7_col5{\n",
       "            background-color:  #779af7;\n",
       "            color:  #000000;\n",
       "        }#T_d548b4ca_2f3b_11ec_9333_5cea1d3d7932row7_col8{\n",
       "            background-color:  #86a9fc;\n",
       "            color:  #000000;\n",
       "        }#T_d548b4ca_2f3b_11ec_9333_5cea1d3d7932row8_col1,#T_d548b4ca_2f3b_11ec_9333_5cea1d3d7932row8_col7{\n",
       "            background-color:  #b1cbfc;\n",
       "            color:  #000000;\n",
       "        }#T_d548b4ca_2f3b_11ec_9333_5cea1d3d7932row8_col2{\n",
       "            background-color:  #dcdddd;\n",
       "            color:  #000000;\n",
       "        }#T_d548b4ca_2f3b_11ec_9333_5cea1d3d7932row8_col3{\n",
       "            background-color:  #89acfd;\n",
       "            color:  #000000;\n",
       "        }#T_d548b4ca_2f3b_11ec_9333_5cea1d3d7932row8_col4{\n",
       "            background-color:  #6f92f3;\n",
       "            color:  #000000;\n",
       "        }#T_d548b4ca_2f3b_11ec_9333_5cea1d3d7932row8_col10{\n",
       "            background-color:  #e6d7cf;\n",
       "            color:  #000000;\n",
       "        }#T_d548b4ca_2f3b_11ec_9333_5cea1d3d7932row9_col0{\n",
       "            background-color:  #516ddb;\n",
       "            color:  #000000;\n",
       "        }#T_d548b4ca_2f3b_11ec_9333_5cea1d3d7932row9_col4,#T_d548b4ca_2f3b_11ec_9333_5cea1d3d7932row9_col5,#T_d548b4ca_2f3b_11ec_9333_5cea1d3d7932row9_col6{\n",
       "            background-color:  #8caffe;\n",
       "            color:  #000000;\n",
       "        }#T_d548b4ca_2f3b_11ec_9333_5cea1d3d7932row10_col0{\n",
       "            background-color:  #3e51c5;\n",
       "            color:  #f1f1f1;\n",
       "        }#T_d548b4ca_2f3b_11ec_9333_5cea1d3d7932row10_col1{\n",
       "            background-color:  #f7aa8c;\n",
       "            color:  #000000;\n",
       "        }#T_d548b4ca_2f3b_11ec_9333_5cea1d3d7932row10_col2{\n",
       "            background-color:  #93b5fe;\n",
       "            color:  #000000;\n",
       "        }#T_d548b4ca_2f3b_11ec_9333_5cea1d3d7932row10_col3{\n",
       "            background-color:  #7699f6;\n",
       "            color:  #000000;\n",
       "        }#T_d548b4ca_2f3b_11ec_9333_5cea1d3d7932row10_col4,#T_d548b4ca_2f3b_11ec_9333_5cea1d3d7932row11_col8{\n",
       "            background-color:  #98b9ff;\n",
       "            color:  #000000;\n",
       "        }#T_d548b4ca_2f3b_11ec_9333_5cea1d3d7932row10_col5,#T_d548b4ca_2f3b_11ec_9333_5cea1d3d7932row11_col7{\n",
       "            background-color:  #bed2f6;\n",
       "            color:  #000000;\n",
       "        }#T_d548b4ca_2f3b_11ec_9333_5cea1d3d7932row10_col6{\n",
       "            background-color:  #d5dbe5;\n",
       "            color:  #000000;\n",
       "        }#T_d548b4ca_2f3b_11ec_9333_5cea1d3d7932row10_col8{\n",
       "            background-color:  #bad0f8;\n",
       "            color:  #000000;\n",
       "        }#T_d548b4ca_2f3b_11ec_9333_5cea1d3d7932row11_col0,#T_d548b4ca_2f3b_11ec_9333_5cea1d3d7932row11_col4{\n",
       "            background-color:  #5875e1;\n",
       "            color:  #000000;\n",
       "        }#T_d548b4ca_2f3b_11ec_9333_5cea1d3d7932row11_col2{\n",
       "            background-color:  #ccd9ed;\n",
       "            color:  #000000;\n",
       "        }#T_d548b4ca_2f3b_11ec_9333_5cea1d3d7932row11_col6{\n",
       "            background-color:  #88abfd;\n",
       "            color:  #000000;\n",
       "        }#T_d548b4ca_2f3b_11ec_9333_5cea1d3d7932row11_col9{\n",
       "            background-color:  #dfdbd9;\n",
       "            color:  #000000;\n",
       "        }</style><table id=\"T_d548b4ca_2f3b_11ec_9333_5cea1d3d7932\" ><thead>    <tr>        <th class=\"blank level0\" ></th>        <th class=\"col_heading level0 col0\" >PassengerId</th>        <th class=\"col_heading level0 col1\" >Survived</th>        <th class=\"col_heading level0 col2\" >Pclass</th>        <th class=\"col_heading level0 col3\" >Age</th>        <th class=\"col_heading level0 col4\" >SibSp</th>        <th class=\"col_heading level0 col5\" >Parch</th>        <th class=\"col_heading level0 col6\" >Fare</th>        <th class=\"col_heading level0 col7\" >Embarked_C</th>        <th class=\"col_heading level0 col8\" >Embarked_Q</th>        <th class=\"col_heading level0 col9\" >Embarked_S</th>        <th class=\"col_heading level0 col10\" >Sex_female</th>        <th class=\"col_heading level0 col11\" >Sex_male</th>    </tr></thead><tbody>\n",
       "                <tr>\n",
       "                        <th id=\"T_d548b4ca_2f3b_11ec_9333_5cea1d3d7932level0_row0\" class=\"row_heading level0 row0\" >PassengerId</th>\n",
       "                        <td id=\"T_d548b4ca_2f3b_11ec_9333_5cea1d3d7932row0_col0\" class=\"data row0 col0\" >1.000000</td>\n",
       "                        <td id=\"T_d548b4ca_2f3b_11ec_9333_5cea1d3d7932row0_col1\" class=\"data row0 col1\" >-0.005007</td>\n",
       "                        <td id=\"T_d548b4ca_2f3b_11ec_9333_5cea1d3d7932row0_col2\" class=\"data row0 col2\" >-0.035144</td>\n",
       "                        <td id=\"T_d548b4ca_2f3b_11ec_9333_5cea1d3d7932row0_col3\" class=\"data row0 col3\" >0.033207</td>\n",
       "                        <td id=\"T_d548b4ca_2f3b_11ec_9333_5cea1d3d7932row0_col4\" class=\"data row0 col4\" >-0.057527</td>\n",
       "                        <td id=\"T_d548b4ca_2f3b_11ec_9333_5cea1d3d7932row0_col5\" class=\"data row0 col5\" >-0.001652</td>\n",
       "                        <td id=\"T_d548b4ca_2f3b_11ec_9333_5cea1d3d7932row0_col6\" class=\"data row0 col6\" >0.012658</td>\n",
       "                        <td id=\"T_d548b4ca_2f3b_11ec_9333_5cea1d3d7932row0_col7\" class=\"data row0 col7\" >-0.001205</td>\n",
       "                        <td id=\"T_d548b4ca_2f3b_11ec_9333_5cea1d3d7932row0_col8\" class=\"data row0 col8\" >-0.033606</td>\n",
       "                        <td id=\"T_d548b4ca_2f3b_11ec_9333_5cea1d3d7932row0_col9\" class=\"data row0 col9\" >0.022148</td>\n",
       "                        <td id=\"T_d548b4ca_2f3b_11ec_9333_5cea1d3d7932row0_col10\" class=\"data row0 col10\" >-0.042939</td>\n",
       "                        <td id=\"T_d548b4ca_2f3b_11ec_9333_5cea1d3d7932row0_col11\" class=\"data row0 col11\" >0.042939</td>\n",
       "            </tr>\n",
       "            <tr>\n",
       "                        <th id=\"T_d548b4ca_2f3b_11ec_9333_5cea1d3d7932level0_row1\" class=\"row_heading level0 row1\" >Survived</th>\n",
       "                        <td id=\"T_d548b4ca_2f3b_11ec_9333_5cea1d3d7932row1_col0\" class=\"data row1 col0\" >-0.005007</td>\n",
       "                        <td id=\"T_d548b4ca_2f3b_11ec_9333_5cea1d3d7932row1_col1\" class=\"data row1 col1\" >1.000000</td>\n",
       "                        <td id=\"T_d548b4ca_2f3b_11ec_9333_5cea1d3d7932row1_col2\" class=\"data row1 col2\" >-0.338481</td>\n",
       "                        <td id=\"T_d548b4ca_2f3b_11ec_9333_5cea1d3d7932row1_col3\" class=\"data row1 col3\" >-0.069809</td>\n",
       "                        <td id=\"T_d548b4ca_2f3b_11ec_9333_5cea1d3d7932row1_col4\" class=\"data row1 col4\" >-0.035322</td>\n",
       "                        <td id=\"T_d548b4ca_2f3b_11ec_9333_5cea1d3d7932row1_col5\" class=\"data row1 col5\" >0.081629</td>\n",
       "                        <td id=\"T_d548b4ca_2f3b_11ec_9333_5cea1d3d7932row1_col6\" class=\"data row1 col6\" >0.257307</td>\n",
       "                        <td id=\"T_d548b4ca_2f3b_11ec_9333_5cea1d3d7932row1_col7\" class=\"data row1 col7\" >0.168240</td>\n",
       "                        <td id=\"T_d548b4ca_2f3b_11ec_9333_5cea1d3d7932row1_col8\" class=\"data row1 col8\" >0.003650</td>\n",
       "                        <td id=\"T_d548b4ca_2f3b_11ec_9333_5cea1d3d7932row1_col9\" class=\"data row1 col9\" >-0.155660</td>\n",
       "                        <td id=\"T_d548b4ca_2f3b_11ec_9333_5cea1d3d7932row1_col10\" class=\"data row1 col10\" >0.543351</td>\n",
       "                        <td id=\"T_d548b4ca_2f3b_11ec_9333_5cea1d3d7932row1_col11\" class=\"data row1 col11\" >-0.543351</td>\n",
       "            </tr>\n",
       "            <tr>\n",
       "                        <th id=\"T_d548b4ca_2f3b_11ec_9333_5cea1d3d7932level0_row2\" class=\"row_heading level0 row2\" >Pclass</th>\n",
       "                        <td id=\"T_d548b4ca_2f3b_11ec_9333_5cea1d3d7932row2_col0\" class=\"data row2 col0\" >-0.035144</td>\n",
       "                        <td id=\"T_d548b4ca_2f3b_11ec_9333_5cea1d3d7932row2_col1\" class=\"data row2 col1\" >-0.338481</td>\n",
       "                        <td id=\"T_d548b4ca_2f3b_11ec_9333_5cea1d3d7932row2_col2\" class=\"data row2 col2\" >1.000000</td>\n",
       "                        <td id=\"T_d548b4ca_2f3b_11ec_9333_5cea1d3d7932row2_col3\" class=\"data row2 col3\" >-0.331339</td>\n",
       "                        <td id=\"T_d548b4ca_2f3b_11ec_9333_5cea1d3d7932row2_col4\" class=\"data row2 col4\" >0.083081</td>\n",
       "                        <td id=\"T_d548b4ca_2f3b_11ec_9333_5cea1d3d7932row2_col5\" class=\"data row2 col5\" >0.018443</td>\n",
       "                        <td id=\"T_d548b4ca_2f3b_11ec_9333_5cea1d3d7932row2_col6\" class=\"data row2 col6\" >-0.549500</td>\n",
       "                        <td id=\"T_d548b4ca_2f3b_11ec_9333_5cea1d3d7932row2_col7\" class=\"data row2 col7\" >-0.243292</td>\n",
       "                        <td id=\"T_d548b4ca_2f3b_11ec_9333_5cea1d3d7932row2_col8\" class=\"data row2 col8\" >0.221009</td>\n",
       "                        <td id=\"T_d548b4ca_2f3b_11ec_9333_5cea1d3d7932row2_col9\" class=\"data row2 col9\" >0.081720</td>\n",
       "                        <td id=\"T_d548b4ca_2f3b_11ec_9333_5cea1d3d7932row2_col10\" class=\"data row2 col10\" >-0.131900</td>\n",
       "                        <td id=\"T_d548b4ca_2f3b_11ec_9333_5cea1d3d7932row2_col11\" class=\"data row2 col11\" >0.131900</td>\n",
       "            </tr>\n",
       "            <tr>\n",
       "                        <th id=\"T_d548b4ca_2f3b_11ec_9333_5cea1d3d7932level0_row3\" class=\"row_heading level0 row3\" >Age</th>\n",
       "                        <td id=\"T_d548b4ca_2f3b_11ec_9333_5cea1d3d7932row3_col0\" class=\"data row3 col0\" >0.033207</td>\n",
       "                        <td id=\"T_d548b4ca_2f3b_11ec_9333_5cea1d3d7932row3_col1\" class=\"data row3 col1\" >-0.069809</td>\n",
       "                        <td id=\"T_d548b4ca_2f3b_11ec_9333_5cea1d3d7932row3_col2\" class=\"data row3 col2\" >-0.331339</td>\n",
       "                        <td id=\"T_d548b4ca_2f3b_11ec_9333_5cea1d3d7932row3_col3\" class=\"data row3 col3\" >1.000000</td>\n",
       "                        <td id=\"T_d548b4ca_2f3b_11ec_9333_5cea1d3d7932row3_col4\" class=\"data row3 col4\" >-0.232625</td>\n",
       "                        <td id=\"T_d548b4ca_2f3b_11ec_9333_5cea1d3d7932row3_col5\" class=\"data row3 col5\" >-0.179191</td>\n",
       "                        <td id=\"T_d548b4ca_2f3b_11ec_9333_5cea1d3d7932row3_col6\" class=\"data row3 col6\" >0.091566</td>\n",
       "                        <td id=\"T_d548b4ca_2f3b_11ec_9333_5cea1d3d7932row3_col7\" class=\"data row3 col7\" >0.032024</td>\n",
       "                        <td id=\"T_d548b4ca_2f3b_11ec_9333_5cea1d3d7932row3_col8\" class=\"data row3 col8\" >-0.013855</td>\n",
       "                        <td id=\"T_d548b4ca_2f3b_11ec_9333_5cea1d3d7932row3_col9\" class=\"data row3 col9\" >-0.027121</td>\n",
       "                        <td id=\"T_d548b4ca_2f3b_11ec_9333_5cea1d3d7932row3_col10\" class=\"data row3 col10\" >-0.084153</td>\n",
       "                        <td id=\"T_d548b4ca_2f3b_11ec_9333_5cea1d3d7932row3_col11\" class=\"data row3 col11\" >0.084153</td>\n",
       "            </tr>\n",
       "            <tr>\n",
       "                        <th id=\"T_d548b4ca_2f3b_11ec_9333_5cea1d3d7932level0_row4\" class=\"row_heading level0 row4\" >SibSp</th>\n",
       "                        <td id=\"T_d548b4ca_2f3b_11ec_9333_5cea1d3d7932row4_col0\" class=\"data row4 col0\" >-0.057527</td>\n",
       "                        <td id=\"T_d548b4ca_2f3b_11ec_9333_5cea1d3d7932row4_col1\" class=\"data row4 col1\" >-0.035322</td>\n",
       "                        <td id=\"T_d548b4ca_2f3b_11ec_9333_5cea1d3d7932row4_col2\" class=\"data row4 col2\" >0.083081</td>\n",
       "                        <td id=\"T_d548b4ca_2f3b_11ec_9333_5cea1d3d7932row4_col3\" class=\"data row4 col3\" >-0.232625</td>\n",
       "                        <td id=\"T_d548b4ca_2f3b_11ec_9333_5cea1d3d7932row4_col4\" class=\"data row4 col4\" >1.000000</td>\n",
       "                        <td id=\"T_d548b4ca_2f3b_11ec_9333_5cea1d3d7932row4_col5\" class=\"data row4 col5\" >0.414838</td>\n",
       "                        <td id=\"T_d548b4ca_2f3b_11ec_9333_5cea1d3d7932row4_col6\" class=\"data row4 col6\" >0.159651</td>\n",
       "                        <td id=\"T_d548b4ca_2f3b_11ec_9333_5cea1d3d7932row4_col7\" class=\"data row4 col7\" >-0.059528</td>\n",
       "                        <td id=\"T_d548b4ca_2f3b_11ec_9333_5cea1d3d7932row4_col8\" class=\"data row4 col8\" >-0.026354</td>\n",
       "                        <td id=\"T_d548b4ca_2f3b_11ec_9333_5cea1d3d7932row4_col9\" class=\"data row4 col9\" >0.070941</td>\n",
       "                        <td id=\"T_d548b4ca_2f3b_11ec_9333_5cea1d3d7932row4_col10\" class=\"data row4 col10\" >0.114631</td>\n",
       "                        <td id=\"T_d548b4ca_2f3b_11ec_9333_5cea1d3d7932row4_col11\" class=\"data row4 col11\" >-0.114631</td>\n",
       "            </tr>\n",
       "            <tr>\n",
       "                        <th id=\"T_d548b4ca_2f3b_11ec_9333_5cea1d3d7932level0_row5\" class=\"row_heading level0 row5\" >Parch</th>\n",
       "                        <td id=\"T_d548b4ca_2f3b_11ec_9333_5cea1d3d7932row5_col0\" class=\"data row5 col0\" >-0.001652</td>\n",
       "                        <td id=\"T_d548b4ca_2f3b_11ec_9333_5cea1d3d7932row5_col1\" class=\"data row5 col1\" >0.081629</td>\n",
       "                        <td id=\"T_d548b4ca_2f3b_11ec_9333_5cea1d3d7932row5_col2\" class=\"data row5 col2\" >0.018443</td>\n",
       "                        <td id=\"T_d548b4ca_2f3b_11ec_9333_5cea1d3d7932row5_col3\" class=\"data row5 col3\" >-0.179191</td>\n",
       "                        <td id=\"T_d548b4ca_2f3b_11ec_9333_5cea1d3d7932row5_col4\" class=\"data row5 col4\" >0.414838</td>\n",
       "                        <td id=\"T_d548b4ca_2f3b_11ec_9333_5cea1d3d7932row5_col5\" class=\"data row5 col5\" >1.000000</td>\n",
       "                        <td id=\"T_d548b4ca_2f3b_11ec_9333_5cea1d3d7932row5_col6\" class=\"data row5 col6\" >0.216225</td>\n",
       "                        <td id=\"T_d548b4ca_2f3b_11ec_9333_5cea1d3d7932row5_col7\" class=\"data row5 col7\" >-0.011069</td>\n",
       "                        <td id=\"T_d548b4ca_2f3b_11ec_9333_5cea1d3d7932row5_col8\" class=\"data row5 col8\" >-0.081228</td>\n",
       "                        <td id=\"T_d548b4ca_2f3b_11ec_9333_5cea1d3d7932row5_col9\" class=\"data row5 col9\" >0.063036</td>\n",
       "                        <td id=\"T_d548b4ca_2f3b_11ec_9333_5cea1d3d7932row5_col10\" class=\"data row5 col10\" >0.245489</td>\n",
       "                        <td id=\"T_d548b4ca_2f3b_11ec_9333_5cea1d3d7932row5_col11\" class=\"data row5 col11\" >-0.245489</td>\n",
       "            </tr>\n",
       "            <tr>\n",
       "                        <th id=\"T_d548b4ca_2f3b_11ec_9333_5cea1d3d7932level0_row6\" class=\"row_heading level0 row6\" >Fare</th>\n",
       "                        <td id=\"T_d548b4ca_2f3b_11ec_9333_5cea1d3d7932row6_col0\" class=\"data row6 col0\" >0.012658</td>\n",
       "                        <td id=\"T_d548b4ca_2f3b_11ec_9333_5cea1d3d7932row6_col1\" class=\"data row6 col1\" >0.257307</td>\n",
       "                        <td id=\"T_d548b4ca_2f3b_11ec_9333_5cea1d3d7932row6_col2\" class=\"data row6 col2\" >-0.549500</td>\n",
       "                        <td id=\"T_d548b4ca_2f3b_11ec_9333_5cea1d3d7932row6_col3\" class=\"data row6 col3\" >0.091566</td>\n",
       "                        <td id=\"T_d548b4ca_2f3b_11ec_9333_5cea1d3d7932row6_col4\" class=\"data row6 col4\" >0.159651</td>\n",
       "                        <td id=\"T_d548b4ca_2f3b_11ec_9333_5cea1d3d7932row6_col5\" class=\"data row6 col5\" >0.216225</td>\n",
       "                        <td id=\"T_d548b4ca_2f3b_11ec_9333_5cea1d3d7932row6_col6\" class=\"data row6 col6\" >1.000000</td>\n",
       "                        <td id=\"T_d548b4ca_2f3b_11ec_9333_5cea1d3d7932row6_col7\" class=\"data row6 col7\" >0.269335</td>\n",
       "                        <td id=\"T_d548b4ca_2f3b_11ec_9333_5cea1d3d7932row6_col8\" class=\"data row6 col8\" >-0.117216</td>\n",
       "                        <td id=\"T_d548b4ca_2f3b_11ec_9333_5cea1d3d7932row6_col9\" class=\"data row6 col9\" >-0.166603</td>\n",
       "                        <td id=\"T_d548b4ca_2f3b_11ec_9333_5cea1d3d7932row6_col10\" class=\"data row6 col10\" >0.182333</td>\n",
       "                        <td id=\"T_d548b4ca_2f3b_11ec_9333_5cea1d3d7932row6_col11\" class=\"data row6 col11\" >-0.182333</td>\n",
       "            </tr>\n",
       "            <tr>\n",
       "                        <th id=\"T_d548b4ca_2f3b_11ec_9333_5cea1d3d7932level0_row7\" class=\"row_heading level0 row7\" >Embarked_C</th>\n",
       "                        <td id=\"T_d548b4ca_2f3b_11ec_9333_5cea1d3d7932row7_col0\" class=\"data row7 col0\" >-0.001205</td>\n",
       "                        <td id=\"T_d548b4ca_2f3b_11ec_9333_5cea1d3d7932row7_col1\" class=\"data row7 col1\" >0.168240</td>\n",
       "                        <td id=\"T_d548b4ca_2f3b_11ec_9333_5cea1d3d7932row7_col2\" class=\"data row7 col2\" >-0.243292</td>\n",
       "                        <td id=\"T_d548b4ca_2f3b_11ec_9333_5cea1d3d7932row7_col3\" class=\"data row7 col3\" >0.032024</td>\n",
       "                        <td id=\"T_d548b4ca_2f3b_11ec_9333_5cea1d3d7932row7_col4\" class=\"data row7 col4\" >-0.059528</td>\n",
       "                        <td id=\"T_d548b4ca_2f3b_11ec_9333_5cea1d3d7932row7_col5\" class=\"data row7 col5\" >-0.011069</td>\n",
       "                        <td id=\"T_d548b4ca_2f3b_11ec_9333_5cea1d3d7932row7_col6\" class=\"data row7 col6\" >0.269335</td>\n",
       "                        <td id=\"T_d548b4ca_2f3b_11ec_9333_5cea1d3d7932row7_col7\" class=\"data row7 col7\" >1.000000</td>\n",
       "                        <td id=\"T_d548b4ca_2f3b_11ec_9333_5cea1d3d7932row7_col8\" class=\"data row7 col8\" >-0.148258</td>\n",
       "                        <td id=\"T_d548b4ca_2f3b_11ec_9333_5cea1d3d7932row7_col9\" class=\"data row7 col9\" >-0.778359</td>\n",
       "                        <td id=\"T_d548b4ca_2f3b_11ec_9333_5cea1d3d7932row7_col10\" class=\"data row7 col10\" >0.082853</td>\n",
       "                        <td id=\"T_d548b4ca_2f3b_11ec_9333_5cea1d3d7932row7_col11\" class=\"data row7 col11\" >-0.082853</td>\n",
       "            </tr>\n",
       "            <tr>\n",
       "                        <th id=\"T_d548b4ca_2f3b_11ec_9333_5cea1d3d7932level0_row8\" class=\"row_heading level0 row8\" >Embarked_Q</th>\n",
       "                        <td id=\"T_d548b4ca_2f3b_11ec_9333_5cea1d3d7932row8_col0\" class=\"data row8 col0\" >-0.033606</td>\n",
       "                        <td id=\"T_d548b4ca_2f3b_11ec_9333_5cea1d3d7932row8_col1\" class=\"data row8 col1\" >0.003650</td>\n",
       "                        <td id=\"T_d548b4ca_2f3b_11ec_9333_5cea1d3d7932row8_col2\" class=\"data row8 col2\" >0.221009</td>\n",
       "                        <td id=\"T_d548b4ca_2f3b_11ec_9333_5cea1d3d7932row8_col3\" class=\"data row8 col3\" >-0.013855</td>\n",
       "                        <td id=\"T_d548b4ca_2f3b_11ec_9333_5cea1d3d7932row8_col4\" class=\"data row8 col4\" >-0.026354</td>\n",
       "                        <td id=\"T_d548b4ca_2f3b_11ec_9333_5cea1d3d7932row8_col5\" class=\"data row8 col5\" >-0.081228</td>\n",
       "                        <td id=\"T_d548b4ca_2f3b_11ec_9333_5cea1d3d7932row8_col6\" class=\"data row8 col6\" >-0.117216</td>\n",
       "                        <td id=\"T_d548b4ca_2f3b_11ec_9333_5cea1d3d7932row8_col7\" class=\"data row8 col7\" >-0.148258</td>\n",
       "                        <td id=\"T_d548b4ca_2f3b_11ec_9333_5cea1d3d7932row8_col8\" class=\"data row8 col8\" >1.000000</td>\n",
       "                        <td id=\"T_d548b4ca_2f3b_11ec_9333_5cea1d3d7932row8_col9\" class=\"data row8 col9\" >-0.496624</td>\n",
       "                        <td id=\"T_d548b4ca_2f3b_11ec_9333_5cea1d3d7932row8_col10\" class=\"data row8 col10\" >0.074115</td>\n",
       "                        <td id=\"T_d548b4ca_2f3b_11ec_9333_5cea1d3d7932row8_col11\" class=\"data row8 col11\" >-0.074115</td>\n",
       "            </tr>\n",
       "            <tr>\n",
       "                        <th id=\"T_d548b4ca_2f3b_11ec_9333_5cea1d3d7932level0_row9\" class=\"row_heading level0 row9\" >Embarked_S</th>\n",
       "                        <td id=\"T_d548b4ca_2f3b_11ec_9333_5cea1d3d7932row9_col0\" class=\"data row9 col0\" >0.022148</td>\n",
       "                        <td id=\"T_d548b4ca_2f3b_11ec_9333_5cea1d3d7932row9_col1\" class=\"data row9 col1\" >-0.155660</td>\n",
       "                        <td id=\"T_d548b4ca_2f3b_11ec_9333_5cea1d3d7932row9_col2\" class=\"data row9 col2\" >0.081720</td>\n",
       "                        <td id=\"T_d548b4ca_2f3b_11ec_9333_5cea1d3d7932row9_col3\" class=\"data row9 col3\" >-0.027121</td>\n",
       "                        <td id=\"T_d548b4ca_2f3b_11ec_9333_5cea1d3d7932row9_col4\" class=\"data row9 col4\" >0.070941</td>\n",
       "                        <td id=\"T_d548b4ca_2f3b_11ec_9333_5cea1d3d7932row9_col5\" class=\"data row9 col5\" >0.063036</td>\n",
       "                        <td id=\"T_d548b4ca_2f3b_11ec_9333_5cea1d3d7932row9_col6\" class=\"data row9 col6\" >-0.166603</td>\n",
       "                        <td id=\"T_d548b4ca_2f3b_11ec_9333_5cea1d3d7932row9_col7\" class=\"data row9 col7\" >-0.778359</td>\n",
       "                        <td id=\"T_d548b4ca_2f3b_11ec_9333_5cea1d3d7932row9_col8\" class=\"data row9 col8\" >-0.496624</td>\n",
       "                        <td id=\"T_d548b4ca_2f3b_11ec_9333_5cea1d3d7932row9_col9\" class=\"data row9 col9\" >1.000000</td>\n",
       "                        <td id=\"T_d548b4ca_2f3b_11ec_9333_5cea1d3d7932row9_col10\" class=\"data row9 col10\" >-0.125722</td>\n",
       "                        <td id=\"T_d548b4ca_2f3b_11ec_9333_5cea1d3d7932row9_col11\" class=\"data row9 col11\" >0.125722</td>\n",
       "            </tr>\n",
       "            <tr>\n",
       "                        <th id=\"T_d548b4ca_2f3b_11ec_9333_5cea1d3d7932level0_row10\" class=\"row_heading level0 row10\" >Sex_female</th>\n",
       "                        <td id=\"T_d548b4ca_2f3b_11ec_9333_5cea1d3d7932row10_col0\" class=\"data row10 col0\" >-0.042939</td>\n",
       "                        <td id=\"T_d548b4ca_2f3b_11ec_9333_5cea1d3d7932row10_col1\" class=\"data row10 col1\" >0.543351</td>\n",
       "                        <td id=\"T_d548b4ca_2f3b_11ec_9333_5cea1d3d7932row10_col2\" class=\"data row10 col2\" >-0.131900</td>\n",
       "                        <td id=\"T_d548b4ca_2f3b_11ec_9333_5cea1d3d7932row10_col3\" class=\"data row10 col3\" >-0.084153</td>\n",
       "                        <td id=\"T_d548b4ca_2f3b_11ec_9333_5cea1d3d7932row10_col4\" class=\"data row10 col4\" >0.114631</td>\n",
       "                        <td id=\"T_d548b4ca_2f3b_11ec_9333_5cea1d3d7932row10_col5\" class=\"data row10 col5\" >0.245489</td>\n",
       "                        <td id=\"T_d548b4ca_2f3b_11ec_9333_5cea1d3d7932row10_col6\" class=\"data row10 col6\" >0.182333</td>\n",
       "                        <td id=\"T_d548b4ca_2f3b_11ec_9333_5cea1d3d7932row10_col7\" class=\"data row10 col7\" >0.082853</td>\n",
       "                        <td id=\"T_d548b4ca_2f3b_11ec_9333_5cea1d3d7932row10_col8\" class=\"data row10 col8\" >0.074115</td>\n",
       "                        <td id=\"T_d548b4ca_2f3b_11ec_9333_5cea1d3d7932row10_col9\" class=\"data row10 col9\" >-0.125722</td>\n",
       "                        <td id=\"T_d548b4ca_2f3b_11ec_9333_5cea1d3d7932row10_col10\" class=\"data row10 col10\" >1.000000</td>\n",
       "                        <td id=\"T_d548b4ca_2f3b_11ec_9333_5cea1d3d7932row10_col11\" class=\"data row10 col11\" >-1.000000</td>\n",
       "            </tr>\n",
       "            <tr>\n",
       "                        <th id=\"T_d548b4ca_2f3b_11ec_9333_5cea1d3d7932level0_row11\" class=\"row_heading level0 row11\" >Sex_male</th>\n",
       "                        <td id=\"T_d548b4ca_2f3b_11ec_9333_5cea1d3d7932row11_col0\" class=\"data row11 col0\" >0.042939</td>\n",
       "                        <td id=\"T_d548b4ca_2f3b_11ec_9333_5cea1d3d7932row11_col1\" class=\"data row11 col1\" >-0.543351</td>\n",
       "                        <td id=\"T_d548b4ca_2f3b_11ec_9333_5cea1d3d7932row11_col2\" class=\"data row11 col2\" >0.131900</td>\n",
       "                        <td id=\"T_d548b4ca_2f3b_11ec_9333_5cea1d3d7932row11_col3\" class=\"data row11 col3\" >0.084153</td>\n",
       "                        <td id=\"T_d548b4ca_2f3b_11ec_9333_5cea1d3d7932row11_col4\" class=\"data row11 col4\" >-0.114631</td>\n",
       "                        <td id=\"T_d548b4ca_2f3b_11ec_9333_5cea1d3d7932row11_col5\" class=\"data row11 col5\" >-0.245489</td>\n",
       "                        <td id=\"T_d548b4ca_2f3b_11ec_9333_5cea1d3d7932row11_col6\" class=\"data row11 col6\" >-0.182333</td>\n",
       "                        <td id=\"T_d548b4ca_2f3b_11ec_9333_5cea1d3d7932row11_col7\" class=\"data row11 col7\" >-0.082853</td>\n",
       "                        <td id=\"T_d548b4ca_2f3b_11ec_9333_5cea1d3d7932row11_col8\" class=\"data row11 col8\" >-0.074115</td>\n",
       "                        <td id=\"T_d548b4ca_2f3b_11ec_9333_5cea1d3d7932row11_col9\" class=\"data row11 col9\" >0.125722</td>\n",
       "                        <td id=\"T_d548b4ca_2f3b_11ec_9333_5cea1d3d7932row11_col10\" class=\"data row11 col10\" >-1.000000</td>\n",
       "                        <td id=\"T_d548b4ca_2f3b_11ec_9333_5cea1d3d7932row11_col11\" class=\"data row11 col11\" >1.000000</td>\n",
       "            </tr>\n",
       "    </tbody></table>"
      ],
      "text/plain": [
       "<pandas.io.formats.style.Styler at 0x1f28faa4eb0>"
      ]
     },
     "execution_count": 384,
     "metadata": {},
     "output_type": "execute_result"
    }
   ],
   "source": [
    "\n",
    "corr.style.background_gradient(cmap='coolwarm')"
   ]
  },
  {
   "cell_type": "code",
   "execution_count": 387,
   "metadata": {},
   "outputs": [],
   "source": [
    "X=titanic.drop(labels=['Survived'], axis=1)\n",
    "y=titanic['Survived']"
   ]
  },
  {
   "cell_type": "code",
   "execution_count": 388,
   "metadata": {},
   "outputs": [
    {
     "name": "stdout",
     "output_type": "stream",
     "text": [
      "<class 'pandas.core.series.Series'>\n"
     ]
    }
   ],
   "source": [
    "print(type(y))"
   ]
  },
  {
   "cell_type": "code",
   "execution_count": 389,
   "metadata": {},
   "outputs": [
    {
     "name": "stdout",
     "output_type": "stream",
     "text": [
      "Optimization terminated successfully.\n",
      "         Current function value: 0.450492\n",
      "         Iterations 18\n",
      "                              Results: Logit\n",
      "===========================================================================\n",
      "Model:                  Logit               Pseudo R-squared:    0.323     \n",
      "Dependent Variable:     Survived            AIC:                 824.7761  \n",
      "Date:                   2021-10-17 13:20    BIC:                 877.4919  \n",
      "No. Observations:       891                 Log-Likelihood:      -401.39   \n",
      "Df Model:               10                  LL-Null:             -593.33   \n",
      "Df Residuals:           880                 LLR p-value:         2.5309e-76\n",
      "Converged:              1.0000              Scale:               1.0000    \n",
      "No. Iterations:         18.0000                                            \n",
      "---------------------------------------------------------------------------\n",
      "             Coef.     Std.Err.      z    P>|z|      [0.025       0.975]   \n",
      "---------------------------------------------------------------------------\n",
      "PassengerId   0.0001       0.0003  0.2362 0.8133       -0.0006       0.0008\n",
      "Pclass       -0.9705       0.1391 -6.9796 0.0000       -1.2431      -0.6980\n",
      "Age          -0.0166       0.0055 -3.0022 0.0027       -0.0275      -0.0058\n",
      "SibSp        -0.2758       0.1021 -2.7000 0.0069       -0.4759      -0.0756\n",
      "Parch        -0.0540       0.1155 -0.4678 0.6399       -0.2804       0.1723\n",
      "Fare          0.0023       0.0024  0.9745 0.3298       -0.0023       0.0069\n",
      "Sex_female   47.2532 3834596.5909  0.0000 1.0000 -7515623.9601 7515718.4666\n",
      "Sex_male     44.5145 3834596.5909  0.0000 1.0000 -7515626.6988 7515715.7279\n",
      "Embarked__C -43.1236 3834596.5909 -0.0000 1.0000 -7515714.3370 7515628.0897\n",
      "Embarked__Q -43.4380 3834596.5909 -0.0000 1.0000 -7515714.6514 7515627.7753\n",
      "Embarked__S -43.5094 3834596.5909 -0.0000 1.0000 -7515714.7228 7515627.7039\n",
      "===========================================================================\n",
      "\n"
     ]
    }
   ],
   "source": [
    "import statsmodels.api as sm\n",
    "logit_model=sm.Logit(y.astype(float),x.astype(float))\n",
    "result=logit_model.fit()\n",
    "print(result.summary2())"
   ]
  },
  {
   "cell_type": "code",
   "execution_count": 392,
   "metadata": {},
   "outputs": [
    {
     "data": {
      "text/plain": [
       "Index(['PassengerId', 'Pclass', 'Age', 'SibSp', 'Parch', 'Fare', 'Embarked_C',\n",
       "       'Embarked_Q', 'Embarked_S', 'Sex_female', 'Sex_male'],\n",
       "      dtype='object')"
      ]
     },
     "execution_count": 392,
     "metadata": {},
     "output_type": "execute_result"
    }
   ],
   "source": [
    "X.columns"
   ]
  },
  {
   "cell_type": "code",
   "execution_count": 393,
   "metadata": {},
   "outputs": [],
   "source": [
    "X2=X.drop(['PassengerId', 'Embarked_C',\n",
    "       'Embarked_Q', 'Embarked_S', 'Sex_female', 'Sex_male'], axis=1)"
   ]
  },
  {
   "cell_type": "code",
   "execution_count": 395,
   "metadata": {},
   "outputs": [
    {
     "name": "stdout",
     "output_type": "stream",
     "text": [
      "Optimization terminated successfully.\n",
      "         Current function value: 0.601420\n",
      "         Iterations 6\n",
      "                         Results: Logit\n",
      "=================================================================\n",
      "Model:              Logit            Pseudo R-squared: 0.097     \n",
      "Dependent Variable: Survived         AIC:              1081.7308 \n",
      "Date:               2021-10-17 13:23 BIC:              1105.6925 \n",
      "No. Observations:   891              Log-Likelihood:   -535.87   \n",
      "Df Model:           4                LL-Null:          -593.33   \n",
      "Df Residuals:       886              LLR p-value:      6.4770e-24\n",
      "Converged:          1.0000           Scale:            1.0000    \n",
      "No. Iterations:     6.0000                                       \n",
      "-------------------------------------------------------------------\n",
      "           Coef.    Std.Err.      z      P>|z|     [0.025    0.975]\n",
      "-------------------------------------------------------------------\n",
      "Pclass    -0.2622     0.0582   -4.5061   0.0000   -0.3763   -0.1482\n",
      "Age       -0.0118     0.0048   -2.4694   0.0135   -0.0212   -0.0024\n",
      "SibSp     -0.2245     0.0828   -2.7119   0.0067   -0.3867   -0.0622\n",
      "Parch      0.1916     0.0998    1.9195   0.0549   -0.0040    0.3872\n",
      "Fare       0.0145     0.0026    5.5307   0.0000    0.0094    0.0196\n",
      "=================================================================\n",
      "\n"
     ]
    }
   ],
   "source": [
    "logit_model2=sm.Logit(y.astype(float),X2.astype(float))\n",
    "result2=logit_model2.fit()\n",
    "print(result2.summary2())"
   ]
  },
  {
   "cell_type": "code",
   "execution_count": 429,
   "metadata": {},
   "outputs": [],
   "source": [
    "titanic_test=pd.read_csv('C:/Users/Dell/Documents/SRH_Course/Semister-2/analytics2/ajinkya/data/titanic/test.csv')"
   ]
  },
  {
   "cell_type": "code",
   "execution_count": 430,
   "metadata": {},
   "outputs": [
    {
     "data": {
      "text/plain": [
       "Index(['PassengerId', 'Pclass', 'Name', 'Sex', 'Age', 'SibSp', 'Parch',\n",
       "       'Ticket', 'Fare', 'Cabin', 'Embarked'],\n",
       "      dtype='object')"
      ]
     },
     "execution_count": 430,
     "metadata": {},
     "output_type": "execute_result"
    }
   ],
   "source": [
    "titanic_test.columns"
   ]
  },
  {
   "cell_type": "code",
   "execution_count": 431,
   "metadata": {},
   "outputs": [],
   "source": [
    "titanic_test=titanic_test[[ 'Pclass',  'Age', 'SibSp','Parch','Fare']]\n"
   ]
  },
  {
   "cell_type": "code",
   "execution_count": 432,
   "metadata": {},
   "outputs": [
    {
     "data": {
      "text/plain": [
       "Pclass     0\n",
       "Age       86\n",
       "SibSp      0\n",
       "Parch      0\n",
       "Fare       1\n",
       "dtype: int64"
      ]
     },
     "execution_count": 432,
     "metadata": {},
     "output_type": "execute_result"
    }
   ],
   "source": [
    "titanic_test.isna().sum()"
   ]
  },
  {
   "cell_type": "code",
   "execution_count": 433,
   "metadata": {},
   "outputs": [],
   "source": [
    "titanic_test['Age']=titanic_test['Age'].fillna(titanic_test['Age'].mean() )"
   ]
  },
  {
   "cell_type": "code",
   "execution_count": 434,
   "metadata": {},
   "outputs": [],
   "source": [
    "titanic_test['Fare']=titanic_test['Fare'].fillna(titanic_test['Fare'].mean() )"
   ]
  },
  {
   "cell_type": "code",
   "execution_count": 436,
   "metadata": {},
   "outputs": [
    {
     "data": {
      "text/html": [
       "<div>\n",
       "<style scoped>\n",
       "    .dataframe tbody tr th:only-of-type {\n",
       "        vertical-align: middle;\n",
       "    }\n",
       "\n",
       "    .dataframe tbody tr th {\n",
       "        vertical-align: top;\n",
       "    }\n",
       "\n",
       "    .dataframe thead th {\n",
       "        text-align: right;\n",
       "    }\n",
       "</style>\n",
       "<table border=\"1\" class=\"dataframe\">\n",
       "  <thead>\n",
       "    <tr style=\"text-align: right;\">\n",
       "      <th></th>\n",
       "      <th>Pclass</th>\n",
       "      <th>Age</th>\n",
       "      <th>SibSp</th>\n",
       "      <th>Parch</th>\n",
       "      <th>Fare</th>\n",
       "    </tr>\n",
       "  </thead>\n",
       "  <tbody>\n",
       "    <tr>\n",
       "      <th>0</th>\n",
       "      <td>3</td>\n",
       "      <td>34.50000</td>\n",
       "      <td>0</td>\n",
       "      <td>0</td>\n",
       "      <td>7.8292</td>\n",
       "    </tr>\n",
       "    <tr>\n",
       "      <th>1</th>\n",
       "      <td>3</td>\n",
       "      <td>47.00000</td>\n",
       "      <td>1</td>\n",
       "      <td>0</td>\n",
       "      <td>7.0000</td>\n",
       "    </tr>\n",
       "    <tr>\n",
       "      <th>2</th>\n",
       "      <td>2</td>\n",
       "      <td>62.00000</td>\n",
       "      <td>0</td>\n",
       "      <td>0</td>\n",
       "      <td>9.6875</td>\n",
       "    </tr>\n",
       "    <tr>\n",
       "      <th>3</th>\n",
       "      <td>3</td>\n",
       "      <td>27.00000</td>\n",
       "      <td>0</td>\n",
       "      <td>0</td>\n",
       "      <td>8.6625</td>\n",
       "    </tr>\n",
       "    <tr>\n",
       "      <th>4</th>\n",
       "      <td>3</td>\n",
       "      <td>22.00000</td>\n",
       "      <td>1</td>\n",
       "      <td>1</td>\n",
       "      <td>12.2875</td>\n",
       "    </tr>\n",
       "    <tr>\n",
       "      <th>...</th>\n",
       "      <td>...</td>\n",
       "      <td>...</td>\n",
       "      <td>...</td>\n",
       "      <td>...</td>\n",
       "      <td>...</td>\n",
       "    </tr>\n",
       "    <tr>\n",
       "      <th>413</th>\n",
       "      <td>3</td>\n",
       "      <td>30.27259</td>\n",
       "      <td>0</td>\n",
       "      <td>0</td>\n",
       "      <td>8.0500</td>\n",
       "    </tr>\n",
       "    <tr>\n",
       "      <th>414</th>\n",
       "      <td>1</td>\n",
       "      <td>39.00000</td>\n",
       "      <td>0</td>\n",
       "      <td>0</td>\n",
       "      <td>108.9000</td>\n",
       "    </tr>\n",
       "    <tr>\n",
       "      <th>415</th>\n",
       "      <td>3</td>\n",
       "      <td>38.50000</td>\n",
       "      <td>0</td>\n",
       "      <td>0</td>\n",
       "      <td>7.2500</td>\n",
       "    </tr>\n",
       "    <tr>\n",
       "      <th>416</th>\n",
       "      <td>3</td>\n",
       "      <td>30.27259</td>\n",
       "      <td>0</td>\n",
       "      <td>0</td>\n",
       "      <td>8.0500</td>\n",
       "    </tr>\n",
       "    <tr>\n",
       "      <th>417</th>\n",
       "      <td>3</td>\n",
       "      <td>30.27259</td>\n",
       "      <td>1</td>\n",
       "      <td>1</td>\n",
       "      <td>22.3583</td>\n",
       "    </tr>\n",
       "  </tbody>\n",
       "</table>\n",
       "<p>418 rows × 5 columns</p>\n",
       "</div>"
      ],
      "text/plain": [
       "     Pclass       Age  SibSp  Parch      Fare\n",
       "0         3  34.50000      0      0    7.8292\n",
       "1         3  47.00000      1      0    7.0000\n",
       "2         2  62.00000      0      0    9.6875\n",
       "3         3  27.00000      0      0    8.6625\n",
       "4         3  22.00000      1      1   12.2875\n",
       "..      ...       ...    ...    ...       ...\n",
       "413       3  30.27259      0      0    8.0500\n",
       "414       1  39.00000      0      0  108.9000\n",
       "415       3  38.50000      0      0    7.2500\n",
       "416       3  30.27259      0      0    8.0500\n",
       "417       3  30.27259      1      1   22.3583\n",
       "\n",
       "[418 rows x 5 columns]"
      ]
     },
     "execution_count": 436,
     "metadata": {},
     "output_type": "execute_result"
    }
   ],
   "source": [
    "titanic_test.dropna()"
   ]
  },
  {
   "cell_type": "code",
   "execution_count": 437,
   "metadata": {},
   "outputs": [],
   "source": [
    "from sklearn.linear_model import LogisticRegression"
   ]
  },
  {
   "cell_type": "code",
   "execution_count": 438,
   "metadata": {},
   "outputs": [],
   "source": [
    "logisticRegr2 = LogisticRegression()"
   ]
  },
  {
   "cell_type": "code",
   "execution_count": 439,
   "metadata": {},
   "outputs": [
    {
     "data": {
      "text/plain": [
       "LogisticRegression()"
      ]
     },
     "execution_count": 439,
     "metadata": {},
     "output_type": "execute_result"
    }
   ],
   "source": [
    "logisticRegr2.fit(X2, y)"
   ]
  },
  {
   "cell_type": "code",
   "execution_count": 440,
   "metadata": {},
   "outputs": [
    {
     "data": {
      "text/plain": [
       "array([0, 0, 0, 0, 0, 0, 0, 0, 0, 0, 0, 1, 1, 0, 0, 0, 0, 0, 0, 0, 0, 0,\n",
       "       1, 1, 1, 0, 1, 0, 1, 0, 0, 0, 0, 0, 1, 0, 0, 0, 0, 0, 0, 1, 0, 0,\n",
       "       1, 0, 1, 0, 0, 0, 1, 0, 0, 1, 0, 0, 0, 0, 0, 1, 0, 0, 0, 0, 1, 0,\n",
       "       0, 1, 1, 1, 0, 0, 0, 1, 1, 1, 0, 0, 0, 0, 0, 0, 0, 0, 0, 0, 0, 0,\n",
       "       0, 1, 0, 0, 1, 0, 1, 0, 0, 0, 0, 0, 1, 0, 0, 0, 0, 0, 0, 0, 0, 1,\n",
       "       0, 0, 1, 0, 1, 0, 0, 0, 1, 0, 1, 0, 1, 0, 0, 0, 0, 0, 0, 0, 0, 0,\n",
       "       0, 0, 0, 0, 0, 0, 0, 0, 0, 1, 1, 0, 1, 0, 1, 0, 1, 0, 1, 0, 0, 0,\n",
       "       0, 0, 1, 0, 1, 0, 0, 0, 0, 0, 0, 0, 1, 0, 1, 0, 0, 0, 0, 0, 0, 1,\n",
       "       1, 0, 1, 1, 0, 1, 1, 0, 1, 0, 1, 0, 0, 0, 0, 1, 0, 0, 1, 0, 1, 0,\n",
       "       0, 0, 0, 1, 1, 1, 0, 1, 0, 0, 1, 0, 0, 0, 1, 0, 0, 1, 0, 1, 1, 0,\n",
       "       0, 0, 0, 0, 0, 0, 0, 0, 0, 0, 1, 1, 0, 0, 1, 0, 0, 0, 1, 1, 0, 0,\n",
       "       1, 0, 0, 1, 1, 0, 0, 0, 1, 0, 1, 0, 0, 0, 0, 0, 1, 0, 0, 0, 1, 0,\n",
       "       0, 0, 1, 0, 0, 0, 1, 0, 1, 0, 0, 0, 0, 0, 0, 0, 0, 0, 0, 0, 0, 0,\n",
       "       0, 1, 0, 0, 1, 0, 0, 1, 0, 0, 1, 0, 1, 0, 0, 0, 0, 0, 0, 0, 1, 1,\n",
       "       1, 0, 0, 0, 0, 0, 1, 0, 0, 1, 0, 0, 0, 0, 0, 1, 1, 0, 1, 1, 0, 1,\n",
       "       0, 1, 0, 0, 0, 1, 0, 0, 0, 0, 1, 0, 1, 1, 0, 0, 0, 0, 0, 0, 1, 0,\n",
       "       1, 0, 1, 0, 0, 0, 0, 0, 0, 1, 0, 0, 1, 1, 0, 0, 1, 0, 0, 1, 0, 0,\n",
       "       1, 1, 0, 1, 0, 0, 0, 0, 0, 0, 0, 1, 0, 0, 0, 0, 1, 1, 0, 0, 0, 1,\n",
       "       0, 1, 0, 0, 1, 0, 1, 1, 0, 1, 0, 1, 0, 0, 0, 1, 0, 0, 1, 0, 0, 0],\n",
       "      dtype=int64)"
      ]
     },
     "execution_count": 440,
     "metadata": {},
     "output_type": "execute_result"
    }
   ],
   "source": [
    "logisticRegr2.predict(titanic_test)"
   ]
  },
  {
   "cell_type": "code",
   "execution_count": 441,
   "metadata": {},
   "outputs": [
    {
     "data": {
      "text/plain": [
       "0.7048260381593715"
      ]
     },
     "execution_count": 441,
     "metadata": {},
     "output_type": "execute_result"
    }
   ],
   "source": [
    "logisticRegr.score(X2,y)"
   ]
  },
  {
   "cell_type": "code",
   "execution_count": null,
   "metadata": {},
   "outputs": [],
   "source": []
  }
 ],
 "metadata": {
  "kernelspec": {
   "display_name": "Python 3",
   "language": "python",
   "name": "python3"
  },
  "language_info": {
   "codemirror_mode": {
    "name": "ipython",
    "version": 3
   },
   "file_extension": ".py",
   "mimetype": "text/x-python",
   "name": "python",
   "nbconvert_exporter": "python",
   "pygments_lexer": "ipython3",
   "version": "3.8.5"
  }
 },
 "nbformat": 4,
 "nbformat_minor": 4
}
